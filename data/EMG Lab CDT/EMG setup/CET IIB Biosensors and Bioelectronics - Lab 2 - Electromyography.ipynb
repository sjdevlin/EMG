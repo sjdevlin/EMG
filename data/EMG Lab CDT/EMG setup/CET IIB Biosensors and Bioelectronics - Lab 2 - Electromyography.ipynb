{
 "cells": [
  {
   "cell_type": "markdown",
   "metadata": {},
   "source": [
    "# CET IIB Biosensors and Bioelectronics - Lab 2 - Electromyography"
   ]
  },
  {
   "cell_type": "markdown",
   "metadata": {},
   "source": [
    "### Introduction\n",
    "\n",
    "In this laboratory you will be introduced to electromyography (EMG) recordings, a technique in which muscle activity is converted to signals that can be used for a variety of diagnostic applications. The first part of this exercise aims to examine how different configurations and movements can modify the recordings and how to interpret these results. The second part aims to assess the effect of different geometries as well as the limitations of the EMG set up. \n",
    "\n",
    "To begin, open “Jupyter Notebook” and navigate to “CET IIB Biosensors and Bioelectronics.ipyndb” (this can be found in the “Desktop” folder).  In the same folder you will find the “lab_setup.ipy” file, which you can also open. To start your recordings plug the Arduino Uno in one of the available USB ports. The code has already been uploaded on the Arduino board and the delay was selected to be 2 ms. \n",
    "\n",
    "Before starting your measurements ensure that the COM port in the “lab_setup.ipy” code corresponds to the port that you are currently using. This can be checked by navigating to the “Device Manager” in your computer’s “Control Panel”. If a different port is used, please change the code accordingly. \n",
    "\n",
    "To get everything set up, run the box “%run lab_setup.ipy”.  To start your measurements run the box “read_data(\"Run1\",duration=5)”.  The measurement will begin after a countdown of 3 seconds and the results will be saved  in a .csv file with the name “Run1”. An output graph will also be produced. \n"
   ]
  },
  {
   "cell_type": "markdown",
   "metadata": {},
   "source": [
    "### Instructions\n",
    "\n",
    "1) Plug the Arduino into the USB port (left/top port)\n",
    "\n",
    "2) Run the box below (\"%run lab_setup.ipy\") to get everything set up"
   ]
  },
  {
   "cell_type": "code",
   "execution_count": 4,
   "metadata": {},
   "outputs": [
    {
     "ename": "SyntaxError",
     "evalue": "invalid syntax (<ipython-input-4-91f1675d1b9c>, line 17)",
     "output_type": "error",
     "traceback": [
      "\u001b[1;36m  File \u001b[1;32m\"<ipython-input-4-91f1675d1b9c>\"\u001b[1;36m, line \u001b[1;32m17\u001b[0m\n\u001b[1;33m    print(\"Begin recording in: \", end=\"\")\u001b[0m\n\u001b[1;37m                                     ^\u001b[0m\n\u001b[1;31mSyntaxError\u001b[0m\u001b[1;31m:\u001b[0m invalid syntax\n"
     ]
    }
   ],
   "source": [
    "%run lab_setup.ipy"
   ]
  },
  {
   "cell_type": "markdown",
   "metadata": {},
   "source": [
    "3) Now, run the code below to read from the Arduino and save in a csv file. An output graph will be produced."
   ]
  },
  {
   "cell_type": "code",
   "execution_count": 2,
   "metadata": {},
   "outputs": [
    {
     "ename": "NameError",
     "evalue": "name 'read_data' is not defined",
     "output_type": "error",
     "traceback": [
      "\u001b[1;31m---------------------------------------------------------------------------\u001b[0m",
      "\u001b[1;31mNameError\u001b[0m                                 Traceback (most recent call last)",
      "\u001b[1;32m<ipython-input-2-60c9120a0243>\u001b[0m in \u001b[0;36m<module>\u001b[1;34m()\u001b[0m\n\u001b[1;32m----> 1\u001b[1;33m \u001b[0mread_data\u001b[0m\u001b[1;33m(\u001b[0m\u001b[1;34m\"Run1\"\u001b[0m\u001b[1;33m,\u001b[0m\u001b[0mduration\u001b[0m\u001b[1;33m=\u001b[0m\u001b[1;36m2\u001b[0m\u001b[1;33m)\u001b[0m\u001b[1;33m\u001b[0m\u001b[0m\n\u001b[0m",
      "\u001b[1;31mNameError\u001b[0m: name 'read_data' is not defined"
     ]
    }
   ],
   "source": [
    "read_data(\"Run1\",duration=5)"
   ]
  }
 ],
 "metadata": {
  "kernelspec": {
   "display_name": "Python 2",
   "language": "python",
   "name": "python2"
  },
  "language_info": {
   "codemirror_mode": {
    "name": "ipython",
    "version": 2
   },
   "file_extension": ".py",
   "mimetype": "text/x-python",
   "name": "python",
   "nbconvert_exporter": "python",
   "pygments_lexer": "ipython2",
   "version": "2.7.15"
  }
 },
 "nbformat": 4,
 "nbformat_minor": 2
}
